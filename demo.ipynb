{
 "cells": [
  {
   "cell_type": "code",
   "execution_count": 1,
   "id": "a219df3b-bc98-4404-b307-314ccdf97405",
   "metadata": {
    "tags": []
   },
   "outputs": [],
   "source": [
    "import pandas as pd"
   ]
  },
  {
   "cell_type": "markdown",
   "id": "6e7cdb6a-b111-4609-8edf-ebca22122506",
   "metadata": {},
   "source": [
    "# Import Datasets\n",
    "Import csv files as Pandas DataFrame."
   ]
  },
  {
   "cell_type": "code",
   "execution_count": 13,
   "id": "df443179-f3b0-4a5b-847b-1f60f17f0353",
   "metadata": {
    "tags": []
   },
   "outputs": [],
   "source": [
    "dataset_type='original'#filter or deadband\n",
    "alarms_df = pd.read_csv('data/alarms_'+dataset_type+'.csv',index_col=0)\n",
    "\n",
    "alarms_df['timestamp'] = pd.to_datetime(alarms_df['timestamp'])\n",
    "alarms_df['test'] = alarms_df['test'].astype(int)"
   ]
  },
  {
   "cell_type": "code",
   "execution_count": 14,
   "id": "1ef378f8-9eab-4a35-a292-82b1c430488c",
   "metadata": {
    "tags": []
   },
   "outputs": [
    {
     "name": "stdout",
     "output_type": "stream",
     "text": [
      "<class 'pandas.core.frame.DataFrame'>\n",
      "Int64Index: 862946 entries, 0 to 862945\n",
      "Data columns (total 5 columns):\n",
      " #   Column       Non-Null Count   Dtype         \n",
      "---  ------       --------------   -----         \n",
      " 0   timestamp    862946 non-null  datetime64[ns]\n",
      " 1   tag          862946 non-null  object        \n",
      " 2   type         862946 non-null  object        \n",
      " 3   description  862946 non-null  object        \n",
      " 4   test         862946 non-null  int32         \n",
      "dtypes: datetime64[ns](1), int32(1), object(3)\n",
      "memory usage: 36.2+ MB\n"
     ]
    }
   ],
   "source": [
    "alarms_df.info()"
   ]
  },
  {
   "cell_type": "markdown",
   "id": "07d8f53c-5851-4113-b82b-8b1a55a6932e",
   "metadata": {},
   "source": [
    "# Show Data"
   ]
  },
  {
   "cell_type": "code",
   "execution_count": 16,
   "id": "58411648-8f1a-491d-b8e2-14a091ec4b29",
   "metadata": {
    "tags": []
   },
   "outputs": [
    {
     "data": {
      "text/html": [
       "<div>\n",
       "<style scoped>\n",
       "    .dataframe tbody tr th:only-of-type {\n",
       "        vertical-align: middle;\n",
       "    }\n",
       "\n",
       "    .dataframe tbody tr th {\n",
       "        vertical-align: top;\n",
       "    }\n",
       "\n",
       "    .dataframe thead th {\n",
       "        text-align: right;\n",
       "    }\n",
       "</style>\n",
       "<table border=\"1\" class=\"dataframe\">\n",
       "  <thead>\n",
       "    <tr style=\"text-align: right;\">\n",
       "      <th></th>\n",
       "      <th>timestamp</th>\n",
       "      <th>tag</th>\n",
       "      <th>type</th>\n",
       "      <th>description</th>\n",
       "      <th>test</th>\n",
       "    </tr>\n",
       "  </thead>\n",
       "  <tbody>\n",
       "    <tr>\n",
       "      <th>88105</th>\n",
       "      <td>2024-06-13 00:38:40.000000001</td>\n",
       "      <td>FIR102</td>\n",
       "      <td>L NR</td>\n",
       "      <td>FLW FEED E LOW ALM RECOVERED</td>\n",
       "      <td>10</td>\n",
       "    </tr>\n",
       "    <tr>\n",
       "      <th>88106</th>\n",
       "      <td>2024-06-13 00:38:40.000000001</td>\n",
       "      <td>FIR114</td>\n",
       "      <td>H NR</td>\n",
       "      <td>FLW COMP RCYCL HIGH ALM RECOVERED</td>\n",
       "      <td>10</td>\n",
       "    </tr>\n",
       "    <tr>\n",
       "      <th>88107</th>\n",
       "      <td>2024-06-13 00:38:40.000000001</td>\n",
       "      <td>PIR108</td>\n",
       "      <td>H NR</td>\n",
       "      <td>PRES REACT HIGH ALM RECOVERED</td>\n",
       "      <td>10</td>\n",
       "    </tr>\n",
       "    <tr>\n",
       "      <th>88108</th>\n",
       "      <td>2024-06-13 00:38:40.000000001</td>\n",
       "      <td>FIR115</td>\n",
       "      <td>H NR</td>\n",
       "      <td>FLW PURGE HIGH ALM RECOVERED</td>\n",
       "      <td>10</td>\n",
       "    </tr>\n",
       "    <tr>\n",
       "      <th>88109</th>\n",
       "      <td>2024-06-13 00:38:40.000000001</td>\n",
       "      <td>TIR118</td>\n",
       "      <td>H NR</td>\n",
       "      <td>TEMP SEP HIGH ALM RECOVERED</td>\n",
       "      <td>10</td>\n",
       "    </tr>\n",
       "    <tr>\n",
       "      <th>...</th>\n",
       "      <td>...</td>\n",
       "      <td>...</td>\n",
       "      <td>...</td>\n",
       "      <td>...</td>\n",
       "      <td>...</td>\n",
       "    </tr>\n",
       "    <tr>\n",
       "      <th>101777</th>\n",
       "      <td>2024-06-17 21:56:00.000000001</td>\n",
       "      <td>LIR117</td>\n",
       "      <td>L</td>\n",
       "      <td>LEVEL SEP LOW ALM</td>\n",
       "      <td>10</td>\n",
       "    </tr>\n",
       "    <tr>\n",
       "      <th>101778</th>\n",
       "      <td>2024-06-17 21:56:10.000000002</td>\n",
       "      <td>LIR106</td>\n",
       "      <td>L NR</td>\n",
       "      <td>LVL REACT LOW ALM RECOVERED</td>\n",
       "      <td>10</td>\n",
       "    </tr>\n",
       "    <tr>\n",
       "      <th>101779</th>\n",
       "      <td>2024-06-17 21:56:30.000000000</td>\n",
       "      <td>LIR106</td>\n",
       "      <td>L</td>\n",
       "      <td>LVL REACT LOW ALM</td>\n",
       "      <td>10</td>\n",
       "    </tr>\n",
       "    <tr>\n",
       "      <th>101780</th>\n",
       "      <td>2024-06-17 21:56:40.000000001</td>\n",
       "      <td>LIR106</td>\n",
       "      <td>L NR</td>\n",
       "      <td>LVL REACT LOW ALM RECOVERED</td>\n",
       "      <td>10</td>\n",
       "    </tr>\n",
       "    <tr>\n",
       "      <th>101781</th>\n",
       "      <td>2024-06-17 21:56:50.000000002</td>\n",
       "      <td>AIR003_4</td>\n",
       "      <td>L</td>\n",
       "      <td>PURGE D CONC LOW ALM</td>\n",
       "      <td>10</td>\n",
       "    </tr>\n",
       "  </tbody>\n",
       "</table>\n",
       "<p>13677 rows × 5 columns</p>\n",
       "</div>"
      ],
      "text/plain": [
       "                           timestamp       tag  type  \\\n",
       "88105  2024-06-13 00:38:40.000000001    FIR102  L NR   \n",
       "88106  2024-06-13 00:38:40.000000001    FIR114  H NR   \n",
       "88107  2024-06-13 00:38:40.000000001    PIR108  H NR   \n",
       "88108  2024-06-13 00:38:40.000000001    FIR115  H NR   \n",
       "88109  2024-06-13 00:38:40.000000001    TIR118  H NR   \n",
       "...                              ...       ...   ...   \n",
       "101777 2024-06-17 21:56:00.000000001    LIR117     L   \n",
       "101778 2024-06-17 21:56:10.000000002    LIR106  L NR   \n",
       "101779 2024-06-17 21:56:30.000000000    LIR106     L   \n",
       "101780 2024-06-17 21:56:40.000000001    LIR106  L NR   \n",
       "101781 2024-06-17 21:56:50.000000002  AIR003_4     L   \n",
       "\n",
       "                              description  test  \n",
       "88105        FLW FEED E LOW ALM RECOVERED    10  \n",
       "88106   FLW COMP RCYCL HIGH ALM RECOVERED    10  \n",
       "88107       PRES REACT HIGH ALM RECOVERED    10  \n",
       "88108        FLW PURGE HIGH ALM RECOVERED    10  \n",
       "88109         TEMP SEP HIGH ALM RECOVERED    10  \n",
       "...                                   ...   ...  \n",
       "101777                  LEVEL SEP LOW ALM    10  \n",
       "101778        LVL REACT LOW ALM RECOVERED    10  \n",
       "101779                  LVL REACT LOW ALM    10  \n",
       "101780        LVL REACT LOW ALM RECOVERED    10  \n",
       "101781               PURGE D CONC LOW ALM    10  \n",
       "\n",
       "[13677 rows x 5 columns]"
      ]
     },
     "execution_count": 16,
     "metadata": {},
     "output_type": "execute_result"
    }
   ],
   "source": [
    "select_test_n = 10\n",
    "alarms_df[alarms_df.test==select_test_n]"
   ]
  },
  {
   "cell_type": "code",
   "execution_count": 19,
   "id": "49afaba2-39f1-473a-9acd-8f17ff282e1f",
   "metadata": {
    "tags": []
   },
   "outputs": [
    {
     "data": {
      "text/plain": [
       "FLW COND CW HIGH ALM                233122\n",
       "FLW COND CW HIGH ALM RECOVERED      233122\n",
       "FLW COND CW LOW ALM                 146460\n",
       "FLW COND CW LOW ALM RECOVERED       146460\n",
       "FLW COMP RCYCL LOW ALM RECOVERED      7848\n",
       "FLW COMP RCYCL LOW ALM                7848\n",
       "LVL STRIP LOW ALM RECOVERED           4207\n",
       "LVL STRIP LOW ALM                     4207\n",
       "FLW REACT FEED LOW ALM RECOVERED      4093\n",
       "FLW REACT FEED LOW ALM                4093\n",
       "Name: description, dtype: int64"
      ]
     },
     "execution_count": 19,
     "metadata": {},
     "output_type": "execute_result"
    }
   ],
   "source": [
    "alarms_df['description'].value_counts()[:10]"
   ]
  },
  {
   "cell_type": "code",
   "execution_count": null,
   "id": "6aba1a24-89a7-4500-b117-80fc2d093d29",
   "metadata": {},
   "outputs": [],
   "source": []
  }
 ],
 "metadata": {
  "kernelspec": {
   "display_name": "Python 3 (ipykernel)",
   "language": "python",
   "name": "python3"
  },
  "language_info": {
   "codemirror_mode": {
    "name": "ipython",
    "version": 3
   },
   "file_extension": ".py",
   "mimetype": "text/x-python",
   "name": "python",
   "nbconvert_exporter": "python",
   "pygments_lexer": "ipython3",
   "version": "3.10.10"
  }
 },
 "nbformat": 4,
 "nbformat_minor": 5
}
