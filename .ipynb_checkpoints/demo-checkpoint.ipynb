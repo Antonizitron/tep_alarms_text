{
 "cells": [
  {
   "cell_type": "code",
   "execution_count": 1,
   "id": "a219df3b-bc98-4404-b307-314ccdf97405",
   "metadata": {
    "tags": []
   },
   "outputs": [],
   "source": [
    "import os\n",
    "from pathlib import Path\n",
    "import pandas as pd\n",
    "import numpy as np"
   ]
  },
  {
   "cell_type": "markdown",
   "id": "6e7cdb6a-b111-4609-8edf-ebca22122506",
   "metadata": {},
   "source": [
    "# Import Datasets\n",
    "Import random csv file as Pandas DataFrame."
   ]
  },
  {
   "cell_type": "code",
   "execution_count": 2,
   "id": "df443179-f3b0-4a5b-847b-1f60f17f0353",
   "metadata": {
    "tags": []
   },
   "outputs": [],
   "source": [
    "DATASET_TYPE='original' #filter or deadband\n",
    "\n",
    "dir_name = Path('data','text_alarms_'+DATASET_TYPE)\n",
    "file_index = np.random.randint(len(os.listdir(dir_name)))\n",
    "file_name = os.listdir(dir_name)[file_index]\n",
    "file_path = Path(dir_name,file_name)\n",
    "\n",
    "alarms_df = pd.read_csv(file_path,index_col=0)\n",
    "\n",
    "alarms_df['timestamp'] = pd.to_datetime(alarms_df['timestamp'])"
   ]
  },
  {
   "cell_type": "code",
   "execution_count": 3,
   "id": "1ef378f8-9eab-4a35-a292-82b1c430488c",
   "metadata": {
    "tags": []
   },
   "outputs": [
    {
     "name": "stdout",
     "output_type": "stream",
     "text": [
      "File: text_alarm_original_58.csv\n",
      "\n",
      "<class 'pandas.core.frame.DataFrame'>\n",
      "Int64Index: 12813 entries, 0 to 12812\n",
      "Data columns (total 4 columns):\n",
      " #   Column       Non-Null Count  Dtype         \n",
      "---  ------       --------------  -----         \n",
      " 0   timestamp    12813 non-null  datetime64[ns]\n",
      " 1   tag          12813 non-null  object        \n",
      " 2   type         12813 non-null  object        \n",
      " 3   description  12813 non-null  object        \n",
      "dtypes: datetime64[ns](1), object(3)\n",
      "memory usage: 500.5+ KB\n"
     ]
    }
   ],
   "source": [
    "print(f'File: {file_name}\\n')\n",
    "alarms_df.info()"
   ]
  },
  {
   "cell_type": "markdown",
   "id": "07d8f53c-5851-4113-b82b-8b1a55a6932e",
   "metadata": {},
   "source": [
    "# Show Data"
   ]
  },
  {
   "cell_type": "code",
   "execution_count": 4,
   "id": "58411648-8f1a-491d-b8e2-14a091ec4b29",
   "metadata": {
    "tags": []
   },
   "outputs": [
    {
     "data": {
      "text/html": [
       "<div>\n",
       "<style scoped>\n",
       "    .dataframe tbody tr th:only-of-type {\n",
       "        vertical-align: middle;\n",
       "    }\n",
       "\n",
       "    .dataframe tbody tr th {\n",
       "        vertical-align: top;\n",
       "    }\n",
       "\n",
       "    .dataframe thead th {\n",
       "        text-align: right;\n",
       "    }\n",
       "</style>\n",
       "<table border=\"1\" class=\"dataframe\">\n",
       "  <thead>\n",
       "    <tr style=\"text-align: right;\">\n",
       "      <th></th>\n",
       "      <th>timestamp</th>\n",
       "      <th>tag</th>\n",
       "      <th>type</th>\n",
       "      <th>description</th>\n",
       "    </tr>\n",
       "  </thead>\n",
       "  <tbody>\n",
       "    <tr>\n",
       "      <th>0</th>\n",
       "      <td>2024-05-01 00:06:00.000000000</td>\n",
       "      <td>FIR123</td>\n",
       "      <td>L</td>\n",
       "      <td>FLW COND CW LOW ALM</td>\n",
       "    </tr>\n",
       "    <tr>\n",
       "      <th>1</th>\n",
       "      <td>2024-05-01 00:06:10.000000000</td>\n",
       "      <td>FIR123</td>\n",
       "      <td>L NR</td>\n",
       "      <td>FLW COND CW LOW ALM RECOVERED</td>\n",
       "    </tr>\n",
       "    <tr>\n",
       "      <th>2</th>\n",
       "      <td>2024-05-01 00:13:50.000000000</td>\n",
       "      <td>FIR123</td>\n",
       "      <td>L</td>\n",
       "      <td>FLW COND CW LOW ALM</td>\n",
       "    </tr>\n",
       "    <tr>\n",
       "      <th>3</th>\n",
       "      <td>2024-05-01 00:14:00.000000000</td>\n",
       "      <td>FIR123</td>\n",
       "      <td>L NR</td>\n",
       "      <td>FLW COND CW LOW ALM RECOVERED</td>\n",
       "    </tr>\n",
       "    <tr>\n",
       "      <th>4</th>\n",
       "      <td>2024-05-01 00:14:30.000000000</td>\n",
       "      <td>FIR123</td>\n",
       "      <td>H</td>\n",
       "      <td>FLW COND CW HIGH ALM</td>\n",
       "    </tr>\n",
       "    <tr>\n",
       "      <th>...</th>\n",
       "      <td>...</td>\n",
       "      <td>...</td>\n",
       "      <td>...</td>\n",
       "      <td>...</td>\n",
       "    </tr>\n",
       "    <tr>\n",
       "      <th>12808</th>\n",
       "      <td>2024-05-06 15:30:20.000000002</td>\n",
       "      <td>PIR108</td>\n",
       "      <td>H NR</td>\n",
       "      <td>PRES REACT HIGH ALM RECOVERED</td>\n",
       "    </tr>\n",
       "    <tr>\n",
       "      <th>12809</th>\n",
       "      <td>2024-05-06 15:30:29.999999999</td>\n",
       "      <td>PIR108</td>\n",
       "      <td>H</td>\n",
       "      <td>PRES REACT HIGH ALM</td>\n",
       "    </tr>\n",
       "    <tr>\n",
       "      <th>12810</th>\n",
       "      <td>2024-05-06 15:30:40.000000000</td>\n",
       "      <td>PIR108</td>\n",
       "      <td>H NR</td>\n",
       "      <td>PRES REACT HIGH ALM RECOVERED</td>\n",
       "    </tr>\n",
       "    <tr>\n",
       "      <th>12811</th>\n",
       "      <td>2024-05-06 15:31:09.999999998</td>\n",
       "      <td>PIR108</td>\n",
       "      <td>H</td>\n",
       "      <td>PRES REACT HIGH ALM</td>\n",
       "    </tr>\n",
       "    <tr>\n",
       "      <th>12812</th>\n",
       "      <td>2024-05-06 16:52:09.999999998</td>\n",
       "      <td>PIR108</td>\n",
       "      <td>HH</td>\n",
       "      <td>PRES REACT HIGH HIGH ALM</td>\n",
       "    </tr>\n",
       "  </tbody>\n",
       "</table>\n",
       "<p>12813 rows × 4 columns</p>\n",
       "</div>"
      ],
      "text/plain": [
       "                          timestamp     tag  type  \\\n",
       "0     2024-05-01 00:06:00.000000000  FIR123     L   \n",
       "1     2024-05-01 00:06:10.000000000  FIR123  L NR   \n",
       "2     2024-05-01 00:13:50.000000000  FIR123     L   \n",
       "3     2024-05-01 00:14:00.000000000  FIR123  L NR   \n",
       "4     2024-05-01 00:14:30.000000000  FIR123     H   \n",
       "...                             ...     ...   ...   \n",
       "12808 2024-05-06 15:30:20.000000002  PIR108  H NR   \n",
       "12809 2024-05-06 15:30:29.999999999  PIR108     H   \n",
       "12810 2024-05-06 15:30:40.000000000  PIR108  H NR   \n",
       "12811 2024-05-06 15:31:09.999999998  PIR108     H   \n",
       "12812 2024-05-06 16:52:09.999999998  PIR108    HH   \n",
       "\n",
       "                         description  \n",
       "0                FLW COND CW LOW ALM  \n",
       "1      FLW COND CW LOW ALM RECOVERED  \n",
       "2                FLW COND CW LOW ALM  \n",
       "3      FLW COND CW LOW ALM RECOVERED  \n",
       "4               FLW COND CW HIGH ALM  \n",
       "...                              ...  \n",
       "12808  PRES REACT HIGH ALM RECOVERED  \n",
       "12809            PRES REACT HIGH ALM  \n",
       "12810  PRES REACT HIGH ALM RECOVERED  \n",
       "12811            PRES REACT HIGH ALM  \n",
       "12812       PRES REACT HIGH HIGH ALM  \n",
       "\n",
       "[12813 rows x 4 columns]"
      ]
     },
     "execution_count": 4,
     "metadata": {},
     "output_type": "execute_result"
    }
   ],
   "source": [
    "alarms_df"
   ]
  },
  {
   "cell_type": "markdown",
   "id": "a87f4ef2-0dd4-47e1-89a7-58d905640d88",
   "metadata": {},
   "source": [
    "Show top-10 alarm messages"
   ]
  },
  {
   "cell_type": "code",
   "execution_count": 5,
   "id": "49afaba2-39f1-473a-9acd-8f17ff282e1f",
   "metadata": {
    "tags": []
   },
   "outputs": [
    {
     "data": {
      "text/plain": [
       "FLW COND CW HIGH ALM                4043\n",
       "FLW COND CW HIGH ALM RECOVERED      4042\n",
       "FLW COND CW LOW ALM                 2050\n",
       "FLW COND CW LOW ALM RECOVERED       2050\n",
       "FLW REACT FEED LOW ALM                43\n",
       "FLW COMP RCYCL LOW ALM                43\n",
       "FLW COMP RCYCL LOW ALM RECOVERED      42\n",
       "FLW REACT FEED LOW ALM RECOVERED      42\n",
       "UFLW SEP HIGH ALM                     40\n",
       "UFLW SEP HIGH ALM RECOVERED           39\n",
       "Name: description, dtype: int64"
      ]
     },
     "execution_count": 5,
     "metadata": {},
     "output_type": "execute_result"
    }
   ],
   "source": [
    "alarms_df['description'].value_counts()[:10]"
   ]
  },
  {
   "cell_type": "code",
   "execution_count": null,
   "id": "6aba1a24-89a7-4500-b117-80fc2d093d29",
   "metadata": {},
   "outputs": [],
   "source": []
  }
 ],
 "metadata": {
  "kernelspec": {
   "display_name": "Python 3 (ipykernel)",
   "language": "python",
   "name": "python3"
  },
  "language_info": {
   "codemirror_mode": {
    "name": "ipython",
    "version": 3
   },
   "file_extension": ".py",
   "mimetype": "text/x-python",
   "name": "python",
   "nbconvert_exporter": "python",
   "pygments_lexer": "ipython3",
   "version": "3.10.10"
  }
 },
 "nbformat": 4,
 "nbformat_minor": 5
}
